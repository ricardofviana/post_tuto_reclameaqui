{
 "cells": [
  {
   "cell_type": "code",
   "execution_count": 8,
   "metadata": {},
   "outputs": [],
   "source": [
    "import requests\n",
    "import pandas as pd\n",
    "from bs4 import BeautifulSoup\n",
    "from selenium import webdriver\n",
    "from selenium.webdriver.chrome.options import Options\n",
    "import json\n",
    "from tqdm import tqdm_notebook"
   ]
  },
  {
   "cell_type": "code",
   "execution_count": 2,
   "metadata": {},
   "outputs": [],
   "source": [
    "url = 'https://www.reclameaqui.com.br/'"
   ]
  },
  {
   "cell_type": "code",
   "execution_count": 3,
   "metadata": {},
   "outputs": [],
   "source": [
    "def get_soup(url,xpath):\n",
    "    options = Options()\n",
    "    options.headless = True\n",
    "    driver = webdriver.Chrome(options=options)\n",
    "    driver.get(url)\n",
    "    try:\n",
    "        element = driver.find_element_by_xpath(xpath)\n",
    "        html_content = element.get_attribute('outerHTML')\n",
    "        soup = BeautifulSoup(html_content,'html.parser')\n",
    "        return soup\n",
    "    except:\n",
    "        pass"
   ]
  },
  {
   "cell_type": "code",
   "execution_count": 5,
   "metadata": {},
   "outputs": [],
   "source": [
    "##Scraping all the categories from the website\n",
    "\n",
    "data = {}\n",
    "soup = get_soup(url+'/categoria','//*[@id=\"all-categories\"]/div/div')\n",
    "for category in soup.findAll('a',{'class':'hidden-xs'}):\n",
    "    data[category.find('div').h2.contents[0]] = {'category_link':category.get('href'),'companies_links':{}}"
   ]
  },
  {
   "cell_type": "code",
   "execution_count": 10,
   "metadata": {},
   "outputs": [
    {
     "data": {
      "application/vnd.jupyter.widget-view+json": {
       "model_id": "d77d59660c29443fa40b0916e53e12e5",
       "version_major": 2,
       "version_minor": 0
      },
      "text/plain": [
       "HBox(children=(IntProgress(value=0, max=299), HTML(value='')))"
      ]
     },
     "metadata": {},
     "output_type": "display_data"
    },
    {
     "name": "stdout",
     "output_type": "stream",
     "text": [
      "\n"
     ]
    }
   ],
   "source": [
    "#getting all companies from categories rankings\n",
    "\n",
    "for k,v in tqdm_notebook(data.items()):\n",
    "    content = get_soup(url+v['category_link'],'//*[@id=\"category-rankings\"]')\n",
    "    for c in content.findAll('div',{'class':'box-gray'}):\n",
    "        data[k]['companies_links'].update({c.h3.text:[]})\n",
    "        for link in c.findAll('a',{'class':'business-name ng-binding'}):\n",
    "            data[k]['companies_links'][c.h3.text].append(link.get('href'))\n"
   ]
  },
  {
   "cell_type": "code",
   "execution_count": 12,
   "metadata": {},
   "outputs": [],
   "source": [
    "#Save json\n",
    "with open('./exports/company_urls', 'w') as f:\n",
    "    json.dump(data,f)"
   ]
  },
  {
   "cell_type": "code",
   "execution_count": 53,
   "metadata": {},
   "outputs": [],
   "source": [
    "#Save csv\n",
    "consolidated_data = []\n",
    "for category in data:\n",
    "    for sub in data[category]['companies_links']:\n",
    "        for url in data[category]['companies_links'][sub]:\n",
    "            consolidated_data.append((category,sub,url))\n",
    "df = pd.DataFrame(consolidated_data, columns=['category','sub_category','company_url'])\n",
    "df.to_csv('./exports/consolidate_company_urls.csv',index=False)"
   ]
  }
 ],
 "metadata": {
  "kernelspec": {
   "display_name": "Python 3",
   "language": "python",
   "name": "python3"
  },
  "language_info": {
   "codemirror_mode": {
    "name": "ipython",
    "version": 3
   },
   "file_extension": ".py",
   "mimetype": "text/x-python",
   "name": "python",
   "nbconvert_exporter": "python",
   "pygments_lexer": "ipython3",
   "version": "3.7.3"
  }
 },
 "nbformat": 4,
 "nbformat_minor": 2
}
